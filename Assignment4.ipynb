{
 "cells": [
  {
   "cell_type": "markdown",
   "id": "74351a99-d3ad-489b-ab3a-53b3d8a5639d",
   "metadata": {},
   "source": [
    "## Q1. Write a program to calculate the electricity bill using only if statement?"
   ]
  },
  {
   "cell_type": "code",
   "execution_count": 5,
   "id": "98a4a75a-b550-469e-af4e-6f34c4267ece",
   "metadata": {},
   "outputs": [
    {
     "name": "stdin",
     "output_type": "stream",
     "text": [
      "Enter your Units 350\n"
     ]
    },
    {
     "name": "stdout",
     "output_type": "stream",
     "text": [
      "Electricity bill is: Rs 2000\n"
     ]
    }
   ],
   "source": [
    "unit = int(input(\"Enter your Units\"))\n",
    "\n",
    "if unit <= 100:\n",
    "    bill = 0\n",
    "    print(\"no charge\") \n",
    "\n",
    "if unit > 100 and unit <= 200:\n",
    "    bill = (unit - 100) * 5\n",
    "    \n",
    "if unit > 200:\n",
    "    \n",
    "    bill = 100 * 5 + (unit - 200) * 10\n",
    "\n",
    "print(\"Electricity bill is: Rs\",bill)"
   ]
  },
  {
   "cell_type": "markdown",
   "id": "f27821ef-4037-4afe-84cf-deacda5fd011",
   "metadata": {},
   "source": [
    "## Q2.Write a program to accept percentage from the user and display the grade"
   ]
  },
  {
   "cell_type": "code",
   "execution_count": 3,
   "id": "16acd742-5c1f-4b8f-a906-e71868ebf122",
   "metadata": {},
   "outputs": [
    {
     "name": "stdin",
     "output_type": "stream",
     "text": [
      "Enter student percentage:  45\n"
     ]
    },
    {
     "name": "stdout",
     "output_type": "stream",
     "text": [
      "Grade: D\n"
     ]
    }
   ],
   "source": [
    "percentage = int(input(\"Enter student percentage: \"))\n",
    "\n",
    "if percentage > 90:\n",
    "    print(\"Grade: A\")\n",
    "if percentage > 80 and percentage <= 90:\n",
    "    print(\"Grade: B\")\n",
    "if percentage >= 60 and percentage <= 80:\n",
    "    print(\"Grade: C\")\n",
    "if percentage >= 33 and percentage < 60:\n",
    "    print(\"Grade: D\")\n",
    "else:\n",
    "    print(\"Fail\")"
   ]
  },
  {
   "cell_type": "markdown",
   "id": "9c7371d6-e7c4-4c92-836b-f06e370d4c15",
   "metadata": {},
   "source": [
    "## Q3.Accept the age of 4 people and display the youngest one?"
   ]
  },
  {
   "cell_type": "code",
   "execution_count": 4,
   "id": "4fb931dc-0f9b-46c5-b770-bdb75c61dd1c",
   "metadata": {},
   "outputs": [
    {
     "name": "stdin",
     "output_type": "stream",
     "text": [
      "Enter 1st age:  23\n",
      "Enter 2nd age:  34\n",
      "Enter 3rd age:  12\n",
      "Enter 4th age:  32\n"
     ]
    },
    {
     "name": "stdout",
     "output_type": "stream",
     "text": [
      "Youngest is:  12\n"
     ]
    }
   ],
   "source": [
    "age1 = int(input(\"Enter 1st age: \"))\n",
    "age2 = int(input(\"Enter 2nd age: \"))\n",
    "age3 = int(input(\"Enter 3rd age: \"))\n",
    "age4 = int(input(\"Enter 4th age: \"))\n",
    "\n",
    "\n",
    "youngest = age1\n",
    "\n",
    "if age2 < youngest:\n",
    "    youngest = age2\n",
    "\n",
    "if age3 < youngest:\n",
    "    youngest = age3\n",
    "\n",
    "if age4 < youngest:\n",
    "    youngest = age4\n",
    "\n",
    "print(\"Youngest is: \", youngest)\n"
   ]
  },
  {
   "cell_type": "markdown",
   "id": "69267172-8878-4ed8-9363-89898c93c0de",
   "metadata": {},
   "source": [
    "## Q4. A company decided to give bonus to employee, Ask user for their salary and years of service and print the net bonus amount?"
   ]
  },
  {
   "cell_type": "code",
   "execution_count": 9,
   "id": "34c6e646-83d8-43dd-82c8-cae3a1ae6057",
   "metadata": {},
   "outputs": [
    {
     "name": "stdin",
     "output_type": "stream",
     "text": [
      "Enter your salary:  50000\n",
      "Enter your years of service:  11\n"
     ]
    },
    {
     "name": "stdout",
     "output_type": "stream",
     "text": [
      "Net bonus amount: ₹ 5000.0\n"
     ]
    }
   ],
   "source": [
    "salary = int(input(\"Enter your salary: \"))\n",
    "years_of_service = int(input(\"Enter your years of service: \"))\n",
    "\n",
    "\n",
    "if years_of_service >10:\n",
    "    bonus = salary * 0.10  \n",
    "    \n",
    "if 6 <= years_of_service <= 10:\n",
    "    bonus = salary * 0.08\n",
    "    \n",
    "else:\n",
    "    bonus = salary * 0.05\n",
    "\n",
    "\n",
    "print(\"Net bonus amount: ₹\", bonus)\n"
   ]
  },
  {
   "cell_type": "markdown",
   "id": "54830852-ff78-4e11-9094-110203cea814",
   "metadata": {},
   "source": [
    "## Q6.Accept the marked price from the user and calculate the Net amount as (Marked Price – Discount) to pay."
   ]
  },
  {
   "cell_type": "code",
   "execution_count": 18,
   "id": "a9a21b2b-ea79-42be-bf6e-b485133c021e",
   "metadata": {},
   "outputs": [
    {
     "name": "stdin",
     "output_type": "stream",
     "text": [
      "Enter the marked price:  6000\n"
     ]
    },
    {
     "name": "stdout",
     "output_type": "stream",
     "text": [
      "Discount Amount: 600.0\n",
      "Customer: 5400.0\n"
     ]
    }
   ],
   "source": [
    "marked_price = int(input(\"Enter the marked price: \"))\n",
    "\n",
    "if marked_price > 10000:\n",
    "    discount = 0.20 * marked_price\n",
    "elif marked_price > 7000 and marked_price <= 10000:\n",
    "    discount = 0.15 * marked_price\n",
    "else:\n",
    "    discount = 0.10 * marked_price\n",
    "\n",
    "\n",
    "net_amount = marked_price - discount\n",
    "\n",
    "print(\"Discount Amount:\", discount)\n",
    "print(\"Customer:\",net_amount )"
   ]
  },
  {
   "cell_type": "markdown",
   "id": "e0614889-bd48-4f9e-8b24-93d8f76c6adb",
   "metadata": {},
   "source": [
    "## Q8. Write a program to display \"Hello\" if a number entered by user is a multiple of five, otherwise print \"Bye\"?"
   ]
  },
  {
   "cell_type": "code",
   "execution_count": 21,
   "id": "c889a249-9737-4f06-a03f-d6061c86fd22",
   "metadata": {},
   "outputs": [
    {
     "name": "stdin",
     "output_type": "stream",
     "text": [
      "Enter your number 30\n"
     ]
    },
    {
     "name": "stdout",
     "output_type": "stream",
     "text": [
      "Hello\n"
     ]
    }
   ],
   "source": [
    "number = int(input(\"Enter your number\"))\n",
    "\n",
    "if number%5 == 0:\n",
    "    print(\"Hello\")\n",
    "else:\n",
    "    print(\"Byee\")\n"
   ]
  },
  {
   "cell_type": "markdown",
   "id": "7f291381-27d6-4b7b-ae2d-760c92f281ee",
   "metadata": {},
   "source": [
    "## Q9. Write a program to check whether the last digit of a number (entered by user) is divisible by 3 or not?"
   ]
  },
  {
   "cell_type": "code",
   "execution_count": 25,
   "id": "209ab57b-f23f-4c97-b52d-8085ba8932af",
   "metadata": {},
   "outputs": [
    {
     "name": "stdin",
     "output_type": "stream",
     "text": [
      "Enter your number 129\n"
     ]
    },
    {
     "name": "stdout",
     "output_type": "stream",
     "text": [
      "The last digit of number is divisble by 3:\n"
     ]
    }
   ],
   "source": [
    "number = int(input(\"Enter your number\"))\n",
    "\n",
    "last_digit = number%10\n",
    "\n",
    "if last_digit % 3 ==0:\n",
    "    print(\"The last digit of number is divisble by 3:\")\n",
    "else:\n",
    "    print(\"The last digit of number is not divisble by 3:\")"
   ]
  },
  {
   "cell_type": "code",
   "execution_count": null,
   "id": "598da326-ed9b-4f85-9c73-badd3bfd0300",
   "metadata": {},
   "outputs": [],
   "source": []
  }
 ],
 "metadata": {
  "kernelspec": {
   "display_name": "Python [conda env:base] *",
   "language": "python",
   "name": "conda-base-py"
  },
  "language_info": {
   "codemirror_mode": {
    "name": "ipython",
    "version": 3
   },
   "file_extension": ".py",
   "mimetype": "text/x-python",
   "name": "python",
   "nbconvert_exporter": "python",
   "pygments_lexer": "ipython3",
   "version": "3.13.5"
  }
 },
 "nbformat": 4,
 "nbformat_minor": 5
}
